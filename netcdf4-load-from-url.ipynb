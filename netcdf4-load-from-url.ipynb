{
 "cells": [
  {
   "cell_type": "markdown",
   "metadata": {},
   "source": [
    "The following very long [URL](http://engaging-opendap.mit.edu:8080/las/UI.vm#panelHeaderHidden=false;differences=false;autoContour=false;xCATID=id-a1d60eba44;xDSID=id-a1d60eba44;varid=O2-id-a1d60eba44;imageSize=auto;over=xy;compute=Nonetoken;zlo=5;zhi=5;tlo=02-Jan-1992%2000:00;thi=02-Jan-1992%2000:00;catid=id-a1d60eba44;dsid=id-a1d60eba44;varid=O2-id-a1d60eba44;avarcount=0;xlo=-180;xhi=180;ylo=-90;yhi=90;operation_id=Plot_2D_XY_zoom;view=xy)\n",
    "\n",
    "```\n",
    "http://engaging-opendap.mit.edu:8080/las/UI.vm#panelHeaderHidden=false;differences=false;autoContour=false;xCATID=id-a1d60eba44;xDSID=id-a1d60eba44;varid=O2-id-a1d60eba44;imageSize=auto;over=xy;compute=Nonetoken;zlo=5;zhi=5;tlo=02-Jan-1992%2000:00;thi=02-Jan-1992%2000:00;catid=id-a1d60eba44;dsid=id-a1d60eba44;varid=O2-id-a1d60eba44;avarcount=0;xlo=-180;xhi=180;ylo=-90;yhi=90;operation_id=Plot_2D_XY_zoom;view=xy\n",
    "```\n",
    "\n",
    "displays some numerical simulation output in an online browser tool called LAS.\n",
    "\n",
    "The same information can be accessed from Python using the netCDF4 package to open a \"file handle\" that can then be used to load data into program data structures e.g."
   ]
  },
  {
   "cell_type": "code",
   "execution_count": 6,
   "metadata": {},
   "outputs": [],
   "source": [
    "import netCDF4\n",
    "tFile = netCDF4.Dataset('http://engaging-opendap.mit.edu:8080/thredds/dodsC/las/id-a1d60eba44/data_usr_local_tomcat_content_cbiomes_20190510_20_darwin_v0.2_cs510_darwin_v0.2_cs510_nutrients.nc.jnl')\n",
    "tFile"
   ]
  },
  {
   "cell_type": "markdown",
   "metadata": {},
   "source": [
    "Documentation for netCDF4 can be found [here](https://unidata.github.io/netcdf4-python/netCDF4/index.html)."
   ]
  }
 ],
 "metadata": {
  "kernelspec": {
   "display_name": "Python 3",
   "language": "python",
   "name": "python3"
  },
  "language_info": {
   "codemirror_mode": {
    "name": "ipython",
    "version": 3
   },
   "file_extension": ".py",
   "mimetype": "text/x-python",
   "name": "python",
   "nbconvert_exporter": "python",
   "pygments_lexer": "ipython3",
   "version": "3.7.3"
  }
 },
 "nbformat": 4,
 "nbformat_minor": 2
}
